{
 "cells": [
  {
   "cell_type": "code",
   "execution_count": 2,
   "id": "d3f08ae3-d9be-459b-9b71-09b53e152664",
   "metadata": {},
   "outputs": [
    {
     "name": "stdout",
     "output_type": "stream",
     "text": [
      "this is my file 1\n"
     ]
    },
    {
     "data": {
      "text/plain": [
       "'\\nDifferent Modes to Open a File in Python\\nMode\\tDescription\\nr\\tOpen a file for reading. (default)\\nw\\tOpen a file for writing. Creates a new file if it does not exist or truncates the file if it exists.\\nx\\tOpen a file for exclusive creation. If the file already exists, the operation fails.\\na\\tOpen a file for appending at the end of the file without truncating it. Creates a new file if it does not exist.\\nt\\tOpen in text mode. (default)\\nb\\tOpen in binary mode.\\n+\\tOpen a file for updating (reading and writing)\\n'"
      ]
     },
     "execution_count": 2,
     "metadata": {},
     "output_type": "execute_result"
    }
   ],
   "source": [
    "## Q No. 1 :\n",
    "# In Python, we use the open() method to open files.\n",
    "# example:\n",
    "with open (\"test.txt\",'w') as f :\n",
    "    f.write(\"this is my file 1\")\n",
    "    f.close()\n",
    "with open (\"test.txt\",\"r\") as f :\n",
    "    print(f.read())\n",
    "\n",
    "\"\"\"\n",
    "Different Modes to Open a File in Python\n",
    "Mode\tDescription\n",
    "r\tOpen a file for reading. (default)\n",
    "w\tOpen a file for writing. Creates a new file if it does not exist or truncates the file if it exists.\n",
    "x\tOpen a file for exclusive creation. If the file already exists, the operation fails.\n",
    "a\tOpen a file for appending at the end of the file without truncating it. Creates a new file if it does not exist.\n",
    "t\tOpen in text mode. (default)\n",
    "b\tOpen in binary mode.\n",
    "+\tOpen a file for updating (reading and writing)\n",
    "\"\"\""
   ]
  },
  {
   "cell_type": "code",
   "execution_count": 3,
   "id": "9f5e2555-4139-419b-89e8-94c085d9bdcb",
   "metadata": {},
   "outputs": [
    {
     "data": {
      "text/plain": [
       "'\\nClosing a file after use is important because it frees up system resources that are being used by the file.\\nWhen a file is open, the operating system allocates memory and other resources to the file, which can potentially\\nimpact the performance of the system if too many files are open at the same time.\\n'"
      ]
     },
     "execution_count": 3,
     "metadata": {},
     "output_type": "execute_result"
    }
   ],
   "source": [
    "## Q No. 2 :\n",
    "\"\"\"\n",
    "Closing a file after use is important because it frees up system resources that are being used by the file.\n",
    "When a file is open, the operating system allocates memory and other resources to the file, which can potentially\n",
    "impact the performance of the system if too many files are open at the same time.\n",
    "\"\"\""
   ]
  },
  {
   "cell_type": "code",
   "execution_count": 9,
   "id": "78dcaf83-ee7a-413a-99e3-7eaa00d17aac",
   "metadata": {},
   "outputs": [
    {
     "name": "stdout",
     "output_type": "stream",
     "text": [
      "I want to become a Data Scientist\n"
     ]
    }
   ],
   "source": [
    "## Q No. 3 :\n",
    "with open (\"test1.txt\",\"w\") as f :\n",
    "    f.write(\"I want to become a Data Scientist\")\n",
    "    f.close()\n",
    "with open (\"test1.txt\",\"r\") as f :    \n",
    "    print(f.read())"
   ]
  },
  {
   "cell_type": "code",
   "execution_count": 18,
   "id": "57768f7e-e580-4811-83e8-26b115b2e837",
   "metadata": {},
   "outputs": [
    {
     "name": "stdout",
     "output_type": "stream",
     "text": [
      "Data Science Masters course is highly curated and uniquely designed according to the latest industry standardThis program instills students the skills essential to knowledge discovery efforts to identify standard,novel, and truly differentiated solutions and decision-making, including skills in managing,querying, analyzing, visualizing, and extracting meaning from extremely large data sets\n"
     ]
    }
   ],
   "source": [
    "## Q No. 4 :\n",
    "# Python readline() method will return a line from the file when called. \n",
    "#readlines() method will return all the lines in a file in the format of a list where each element is a line in the file.\n",
    "with open (\"test2.txt\",\"w\") as f :    \n",
    "    f.write(\"Data Science Masters course is highly curated and uniquely designed according to the latest industry standardThis program instills students the skills essential to knowledge discovery efforts to identify standard,novel, and truly differentiated solutions and decision-making, including skills in managing,querying, analyzing, visualizing, and extracting meaning from extremely large data sets\")\n",
    "\n",
    "with open (\"test2.txt\",\"r\") as f :    \n",
    "    print(f.read())"
   ]
  },
  {
   "cell_type": "code",
   "execution_count": 21,
   "id": "6b74a999-a6ce-47c0-9099-17a61301d836",
   "metadata": {},
   "outputs": [
    {
     "name": "stdout",
     "output_type": "stream",
     "text": [
      "Data Science Masters course is highly curated and uniquely designed according to the latest industry standardThis program instills students the skills essential to knowledge discovery efforts to identify standard,novel, and truly differentiated solutions and decision-making, including skills in managing,querying, analyzing, visualizing, and extracting meaning from extremely large data sets\n"
     ]
    }
   ],
   "source": [
    "with open (\"test2.txt\",\"r\") as f :    \n",
    "    print(f.readline())"
   ]
  },
  {
   "cell_type": "code",
   "execution_count": 24,
   "id": "0c8aa164-3314-4ef4-81a3-6a0b80b153ef",
   "metadata": {},
   "outputs": [
    {
     "name": "stdout",
     "output_type": "stream",
     "text": [
      "['Data Science Masters course is highly curated and uniquely designed according to the latest industry standardThis program instills students the skills essential to knowledge discovery efforts to identify standard,novel, and truly differentiated solutions and decision-making, including skills in managing,querying, analyzing, visualizing, and extracting meaning from extremely large data sets']\n"
     ]
    }
   ],
   "source": [
    "with open (\"test2.txt\",\"r\") as f :    \n",
    "    print(f.readlines())    \n",
    "    "
   ]
  },
  {
   "cell_type": "code",
   "execution_count": 25,
   "id": "537a701f-aaf2-4570-840a-83deb2456952",
   "metadata": {},
   "outputs": [
    {
     "data": {
      "text/plain": [
       "'\\nUnlike open() where you have to close the file with the close() method, the with statement closes the file\\nfor you without you telling it to.\\n\\nThis is because the with statement calls 2 built-in methods behind the scene – __enter()__ and __exit()__.\\n\\nThe __exit()__ method closes the file when the operation you specify is done.\\n\\nIn Python, you can access a file by using the open() method. However, using the open() method directly requires you\\nto use the close() method to close the file explicitly. Instead, you can create a context using the with Open \\nstatement in python.\\n'"
      ]
     },
     "execution_count": 25,
     "metadata": {},
     "output_type": "execute_result"
    }
   ],
   "source": [
    "## Q No. 5 :\n",
    "\"\"\"\n",
    "Unlike open() where you have to close the file with the close() method, the with statement closes the file\n",
    "for you without you telling it to.\n",
    "\n",
    "This is because the with statement calls 2 built-in methods behind the scene – __enter()__ and __exit()__.\n",
    "\n",
    "The __exit()__ method closes the file when the operation you specify is done.\n",
    "\n",
    "In Python, you can access a file by using the open() method. However, using the open() method directly requires you\n",
    "to use the close() method to close the file explicitly. Instead, you can create a context using the with Open \n",
    "statement in python.\n",
    "\"\"\""
   ]
  },
  {
   "cell_type": "code",
   "execution_count": 29,
   "id": "08b3e6e1-a3be-43f5-ae8b-99044cdd49aa",
   "metadata": {},
   "outputs": [
    {
     "name": "stdin",
     "output_type": "stream",
     "text": [
      "Enter the name of the employee:  rahil\n",
      "Enter the name of the employee:  sudh\n",
      "Enter the name of the employee:  krish\n"
     ]
    },
    {
     "name": "stdout",
     "output_type": "stream",
     "text": [
      "Data is written into the file.\n"
     ]
    }
   ],
   "source": [
    "## Q No. 6 :\n",
    "# The write() function will write the content in the file without adding any extra characters. \n",
    "\n",
    "#  syntax:\n",
    "    \n",
    "# Writes string content referenced by file object.\n",
    "# file_name.write(content) \n",
    "with open (\"test.txt\",'w') as f :\n",
    "    f.write(\"this is my file 1\")\n",
    "    f.close()\n",
    "\n",
    "# writelines() function :-> This function writes the content of a list to a file.\n",
    "\n",
    "# Syntax:   \n",
    "# write all the strings present in the list \"list_of_lines\" \n",
    "# referenced by file object.\n",
    "# file_name.writelines(list_of_lines)\n",
    "file1 = open(\"Employees.txt\", \"w\")\n",
    "lst = []\n",
    "for i in range(3):\n",
    "    name = input(\"Enter the name of the employee: \")\n",
    "    lst.append(name + '\\n')\n",
    "      \n",
    "file1.writelines(lst)\n",
    "file1.close()\n",
    "print(\"Data is written into the file.\") "
   ]
  }
 ],
 "metadata": {
  "kernelspec": {
   "display_name": "Python 3 (ipykernel)",
   "language": "python",
   "name": "python3"
  },
  "language_info": {
   "codemirror_mode": {
    "name": "ipython",
    "version": 3
   },
   "file_extension": ".py",
   "mimetype": "text/x-python",
   "name": "python",
   "nbconvert_exporter": "python",
   "pygments_lexer": "ipython3",
   "version": "3.10.8"
  }
 },
 "nbformat": 4,
 "nbformat_minor": 5
}
